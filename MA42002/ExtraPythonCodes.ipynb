{
  "cells": [
    {
      "cell_type": "code",
      "metadata": {},
      "source": [
        "from moviepy.editor\n",
        "from moviepy.editor import VideoFileClip\n",
        "\n",
        "import os\n",
        "os.environ[\"FFMPEG_BINARY\"] = \"~/Applications/ffmpeg\"\n",
        "\n",
        "\n",
        "\n",
        "videoClip = VideoFileClip(\"COVID-19_England.gif\")\n",
        "videoClip.write_mp4(\"COVID-19_England.mp4\")\n"
      ],
      "id": "cb21055a",
      "execution_count": null,
      "outputs": []
    }
  ],
  "metadata": {
    "kernelspec": {
      "name": "python3",
      "language": "python",
      "display_name": "Python 3 (ipykernel)"
    }
  },
  "nbformat": 4,
  "nbformat_minor": 5
}